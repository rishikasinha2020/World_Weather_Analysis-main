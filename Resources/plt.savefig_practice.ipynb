{
 "cells": [
  {
   "cell_type": "code",
   "execution_count": null,
   "id": "sought-nowhere",
   "metadata": {},
   "outputs": [],
   "source": [
    "\n",
    "    # Save the figure.\n",
    "    %matplotlib inline\n",
    "    file_name = 'linregress'\n",
    "    extension = '.png'\n",
    "    folder = 'Resources/'\n",
    "    path = folder + file_name + extension\n",
    "    plt.savefig(path, dpi=100, bbox_inches='tight')\n",
    "    plt.show()"
   ]
  }
 ],
 "metadata": {
  "kernelspec": {
   "display_name": "PythonData",
   "language": "python",
   "name": "pythondata"
  },
  "language_info": {
   "codemirror_mode": {
    "name": "ipython",
    "version": 3
   },
   "file_extension": ".py",
   "mimetype": "text/x-python",
   "name": "python",
   "nbconvert_exporter": "python",
   "pygments_lexer": "ipython3",
   "version": "3.9.2"
  }
 },
 "nbformat": 4,
 "nbformat_minor": 5
}
